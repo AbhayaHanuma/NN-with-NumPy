{
 "cells": [
  {
   "cell_type": "code",
   "execution_count": 1,
   "metadata": {},
   "outputs": [],
   "source": [
    "import h5py\n",
    "import numpy as np\n",
    "import matplotlib.pyplot as plt"
   ]
  },
  {
   "cell_type": "code",
   "execution_count": 2,
   "metadata": {},
   "outputs": [],
   "source": [
    "PATH = '/home/abhay/coding/DLS/'"
   ]
  },
  {
   "cell_type": "code",
   "execution_count": 3,
   "metadata": {},
   "outputs": [],
   "source": [
    "def load_dataset():\n",
    "    train_dataset = h5py.File(PATH+'datasets/train_catvnoncat.h5', \"r\")\n",
    "    train_set_x_orig = np.array(train_dataset[\"train_set_x\"][:]) # your train set features\n",
    "    train_set_y_orig = np.array(train_dataset[\"train_set_y\"][:]) # your train set labels\n",
    "\n",
    "    test_dataset = h5py.File(PATH+'datasets/test_catvnoncat.h5', \"r\")\n",
    "    test_set_x_orig = np.array(test_dataset[\"test_set_x\"][:]) # your test set features\n",
    "    test_set_y_orig = np.array(test_dataset[\"test_set_y\"][:]) # your test set labels\n",
    "\n",
    "    classes = np.array(test_dataset[\"list_classes\"][:]) # the list of classes\n",
    "    classes = np.char.decode(classes)\n",
    "    \n",
    "    train_set_y_orig = train_set_y_orig.reshape((1, train_set_y_orig.shape[0]))\n",
    "    test_set_y_orig = test_set_y_orig.reshape((1, test_set_y_orig.shape[0]))\n",
    "    \n",
    "    return train_set_x_orig, train_set_y_orig, test_set_x_orig, test_set_y_orig, classes"
   ]
  },
  {
   "cell_type": "code",
   "execution_count": 4,
   "metadata": {},
   "outputs": [],
   "source": [
    "train_set_x_orig, train_set_y_orig, test_set_x_orig, test_set_y_orig, classes = load_dataset()"
   ]
  },
  {
   "cell_type": "code",
   "execution_count": 5,
   "metadata": {},
   "outputs": [
    {
     "name": "stdout",
     "output_type": "stream",
     "text": [
      "X train Shape - (209, 64, 64, 3)\n",
      "Y train Shape - (1, 209)\n",
      "X test Shape - (50, 64, 64, 3)\n",
      "Y test Shape - (1, 50)\n",
      "Classes - ['non-cat' 'cat']\n"
     ]
    }
   ],
   "source": [
    "print(f'X train Shape - {train_set_x_orig.shape}')\n",
    "print(f'Y train Shape - {train_set_y_orig.shape}')\n",
    "print(f'X test Shape - {test_set_x_orig.shape}')\n",
    "print(f'Y test Shape - {test_set_y_orig.shape}')\n",
    "print(f'Classes - {classes}')"
   ]
  },
  {
   "cell_type": "code",
   "execution_count": 6,
   "metadata": {},
   "outputs": [
    {
     "name": "stdout",
     "output_type": "stream",
     "text": [
      "Y = [1] and it is cat\n"
     ]
    },
    {
     "data": {
      "image/png": "[encoded data removed]",
      "text/plain": [
       "<Figure size 640x480 with 1 Axes>"
      ]
     },
     "metadata": {},
     "output_type": "display_data"
    }
   ],
   "source": [
    "index = 200\n",
    "plt.imshow(train_set_x_orig[index])\n",
    "print(f'Y = {train_set_y_orig[:,index]} and it is {classes[np.squeeze(train_set_y_orig[:,index])]}')"
   ]
  },
  {
   "cell_type": "code",
   "execution_count": 7,
   "metadata": {},
   "outputs": [],
   "source": [
    "#Flatten\n",
    "train_set_x_flatten = train_set_x_orig.reshape(train_set_x_orig.shape[0],-1).T\n",
    "test_set_x_flatten = test_set_x_orig.reshape(test_set_x_orig.shape[0],-1).T"
   ]
  },
  {
   "cell_type": "code",
   "execution_count": 8,
   "metadata": {},
   "outputs": [
    {
     "name": "stdout",
     "output_type": "stream",
     "text": [
      "Flattened shape of X train = (12288, 209)\n",
      "Flattened shape of X test = (12288, 50)\n"
     ]
    }
   ],
   "source": [
    "print(f'Flattened shape of X train = {train_set_x_flatten.shape}')\n",
    "print(f'Flattened shape of X test = {test_set_x_flatten.shape}')"
   ]
  },
  {
   "cell_type": "code",
   "execution_count": 9,
   "metadata": {},
   "outputs": [],
   "source": [
    "#Normalize\n",
    "train_set_x = train_set_x_flatten/255\n",
    "test_set_x = test_set_x_flatten/255"
   ]
  },
  {
   "cell_type": "code",
   "execution_count": 10,
   "metadata": {},
   "outputs": [],
   "source": [
    "#Activation Functions\n",
    "def tanh(x):\n",
    "    return np.tanh(x)\n",
    "\n",
    "def d_tanh(x):\n",
    "    return 1 - np.square(np.tanh(x))\n",
    "\n",
    "def sigmoid(x):\n",
    "    return 1/(1 + np.exp(-x))\n",
    "\n",
    "def d_sigmoid(x):\n",
    "    return sigmoid(x)*(1 - sigmoid(x))\n",
    "\n",
    "def relu(x):\n",
    "    return np.maximum(0,x)\n",
    "\n",
    "def d_relu(x):\n",
    "    return np.where(x > 0, 1, 0)\n",
    "\n",
    "#Loss Functions\n",
    "def logloss(y, a):\n",
    "    return -(y*np.log(a) + (1 - y)*np.log(1 - a))\n",
    "\n",
    "def d_logloss(y, a):\n",
    "    return (a - y)/(a*(1 - a))"
   ]
  },
  {
   "cell_type": "code",
   "execution_count": 11,
   "metadata": {},
   "outputs": [
    {
     "data": {
      "text/plain": [
       "array(1)"
      ]
     },
     "execution_count": 11,
     "metadata": {},
     "output_type": "execute_result"
    }
   ],
   "source": [
    "relu(-1)\n",
    "d_relu(10)"
   ]
  },
  {
   "cell_type": "code",
   "execution_count": 12,
   "metadata": {},
   "outputs": [
    {
     "name": "stdout",
     "output_type": "stream",
     "text": [
      "[[ 0.00887093 -0.0083698 ]\n",
      " [-0.00627454 -0.00319783]\n",
      " [-0.00965847 -0.00434017]] (3, 2)\n",
      "(3, 1)\n"
     ]
    }
   ],
   "source": [
    "def initializeWeights(nx,ny):\n",
    "    '''\n",
    "    nx = No of inputs or No of neurons in prev layer\n",
    "    ny = No of neurons in current layer\n",
    "    '''\n",
    "    w = np.random.randn(ny,nx)*0.01\n",
    "    b = np.zeros((ny,1))\n",
    "    \n",
    "    return w,b\n",
    "\n",
    "w,b = initializeWeights(2,3)\n",
    "print(w,w.shape)\n",
    "print(b.shape)"
   ]
  },
  {
   "cell_type": "code",
   "execution_count": 13,
   "metadata": {},
   "outputs": [],
   "source": [
    "#Layer class\n",
    "class Layer:\n",
    "    \n",
    "    activationFunctions = {\n",
    "            'tanh' : (tanh,d_tanh),\n",
    "            'sigmoid' : (sigmoid,d_sigmoid),\n",
    "            'relu' : (relu, d_relu)\n",
    "        }\n",
    "    \n",
    "    def __init__(self, inputs, neurons, activation, learning_rate):\n",
    "        '''\n",
    "        inputs = No of inputs to the current layer\n",
    "        neurons = No of neurons in the current layer\n",
    "        activation = Activation function for the currenrt layer\n",
    "        '''\n",
    "        self.W,self.b = initializeWeights(nx=inputs, ny=neurons)\n",
    "        self.act, self.d_act = self.activationFunctions.get(activation)\n",
    "        self.learning_rate = learning_rate\n",
    "    \n",
    "    def forwardProp(self, A_prev):\n",
    "        self.A_prev = A_prev\n",
    "        self.Z = np.dot(self.W, self.A_prev) + self.b\n",
    "        self.A = self.act(self.Z)\n",
    "        return self.A\n",
    "    \n",
    "    def backProp(self, dA):\n",
    "        dZ = np.multiply(self.d_act(self.Z),dA)\n",
    "        dW = 1/dZ.shape[1] * (np.dot(dZ,self.A_prev.T))\n",
    "        db = 1/dZ.shape[1] * np.sum(dZ, axis=1, keepdims=True)\n",
    "        dA_prev = np.dot(self.W.T,dZ)\n",
    "        \n",
    "        self.W = self.W - self.learning_rate * dW\n",
    "        self.b = self.b - self.learning_rate * db\n",
    "        \n",
    "        return dA_prev"
   ]
  },
  {
   "cell_type": "code",
   "execution_count": 42,
   "metadata": {},
   "outputs": [
    {
     "name": "stdout",
     "output_type": "stream",
     "text": [
      "At epoch - 0, cost - 0.01179\n",
      "At epoch - 1000, cost - 0.01096\n",
      "At epoch - 2000, cost - 0.01095\n",
      "At epoch - 3000, cost - 0.01095\n",
      "At epoch - 4000, cost - 0.01092\n",
      "At epoch - 5000, cost - 0.00821\n",
      "At epoch - 6000, cost - 0.00149\n",
      "At epoch - 7000, cost - 0.00014\n",
      "At epoch - 8000, cost - 0.00006\n",
      "At epoch - 9000, cost - 0.00003\n",
      "At epoch - 10000, cost - 0.00002\n"
     ]
    }
   ],
   "source": [
    "m = train_set_x.shape[0]\n",
    "epochs = 3001\n",
    "\n",
    "layers = [\n",
    "    Layer(inputs=m, neurons=20, activation='relu', learning_rate=0.0075),\n",
    "    Layer(inputs=20, neurons=7, activation='relu', learning_rate=0.0075),\n",
    "    Layer(inputs=7, neurons=5, activation='relu', learning_rate=0.0075),\n",
    "    Layer(inputs=5, neurons=1, activation='sigmoid', learning_rate=0.0075)\n",
    "\n",
    "]\n",
    "costs = []\n",
    "\n",
    "for epoch in range(epochs):\n",
    "    A = train_set_x\n",
    "    for layer in layers:\n",
    "        A = layer.forwardProp(A)\n",
    "    \n",
    "    cost = 1/m * np.sum(logloss(y=train_set_y_orig,a=A))\n",
    "    costs.append(cost)\n",
    "    \n",
    "    dA = d_logloss(train_set_y_orig, A)\n",
    "    \n",
    "    for layer in reversed(layers):\n",
    "        dA = layer.backProp(dA)\n",
    "    if epoch%1000==0:\n",
    "        print(f'At epoch - {epoch}, cost - {cost:0.5f}')"
   ]
  },
  {
   "cell_type": "code",
   "execution_count": 43,
   "metadata": {},
   "outputs": [],
   "source": [
    "def getPredictions(X, layers):\n",
    "    A = X\n",
    "    for layer in layers:\n",
    "        A = layer.forwardProp(A)\n",
    "    A = np.where(A<0.5, 0, 1)\n",
    "    return A\n",
    "\n",
    "def getAccuracy(Y,predictions):\n",
    "    return float((np.dot(Y, predictions.T) + np.dot(1 - Y, 1 - predictions.T)) / float(Y.size) * 100)"
   ]
  },
  {
   "cell_type": "code",
   "execution_count": 44,
   "metadata": {},
   "outputs": [
    {
     "name": "stdout",
     "output_type": "stream",
     "text": [
      "Train Accuracy - 100.0\n",
      "Test Accuracy - 70.0\n"
     ]
    }
   ],
   "source": [
    "train_preds = getPredictions(train_set_x, layers)\n",
    "test_preds = getPredictions(test_set_x, layers)\n",
    "\n",
    "train_acc = getAccuracy(Y=train_set_y_orig, predictions=train_preds)\n",
    "test_acc = getAccuracy(Y=test_set_y_orig, predictions=test_preds)\n",
    "\n",
    "print(f'Train Accuracy - {train_acc}\\nTest Accuracy - {test_acc}')"
   ]
  },
  {
   "cell_type": "code",
   "execution_count": 45,
   "metadata": {},
   "outputs": [
    {
     "data": {
      "text/plain": [
       "[<matplotlib.lines.Line2D at 0x7f34c3b378d0>]"
      ]
     },
     "execution_count": 45,
     "metadata": {},
     "output_type": "execute_result"
    },
    {
     "data": {
      "image/png": "[encoded data removed]",
      "text/plain": [
       "<Figure size 640x480 with 1 Axes>"
      ]
     },
     "metadata": {},
     "output_type": "display_data"
    }
   ],
   "source": [
    "plt.plot(range(epochs),costs)"
   ]
  },
  {
   "cell_type": "code",
   "execution_count": null,
   "metadata": {},
   "outputs": [],
   "source": []
  }
 ],
 "metadata": {
  "kernelspec": {
   "display_name": "Python 3 (ipykernel)",
   "language": "python",
   "name": "python3"
  },
  "language_info": {
   "codemirror_mode": {
    "name": "ipython",
    "version": 3
   },
   "file_extension": ".py",
   "mimetype": "text/x-python",
   "name": "python",
   "nbconvert_exporter": "python",
   "pygments_lexer": "ipython3",
   "version": "3.7.16"
  }
 },
 "nbformat": 4,
 "nbformat_minor": 2
}
