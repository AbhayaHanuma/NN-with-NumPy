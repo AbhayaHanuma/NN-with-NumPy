{
 "cells": [
  {
   "cell_type": "code",
   "execution_count": 1,
   "metadata": {},
   "outputs": [],
   "source": [
    "import h5py\n",
    "import numpy as np\n",
    "import matplotlib.pyplot as plt"
   ]
  },
  {
   "cell_type": "code",
   "execution_count": 2,
   "metadata": {},
   "outputs": [],
   "source": [
    "PATH = '/home/abhay/coding/DLS/'"
   ]
  },
  {
   "cell_type": "code",
   "execution_count": 3,
   "metadata": {},
   "outputs": [],
   "source": [
    "def load_dataset():\n",
    "    train_dataset = h5py.File(PATH+'datasets/train_catvnoncat.h5', \"r\")\n",
    "    train_set_x_orig = np.array(train_dataset[\"train_set_x\"][:]) # your train set features\n",
    "    train_set_y_orig = np.array(train_dataset[\"train_set_y\"][:]) # your train set labels\n",
    "\n",
    "    test_dataset = h5py.File(PATH+'datasets/test_catvnoncat.h5', \"r\")\n",
    "    test_set_x_orig = np.array(test_dataset[\"test_set_x\"][:]) # your test set features\n",
    "    test_set_y_orig = np.array(test_dataset[\"test_set_y\"][:]) # your test set labels\n",
    "\n",
    "    classes = np.array(test_dataset[\"list_classes\"][:]) # the list of classes\n",
    "    classes = np.char.decode(classes)\n",
    "    \n",
    "    train_set_y_orig = train_set_y_orig.reshape((1, train_set_y_orig.shape[0]))\n",
    "    test_set_y_orig = test_set_y_orig.reshape((1, test_set_y_orig.shape[0]))\n",
    "    \n",
    "    return train_set_x_orig, train_set_y_orig, test_set_x_orig, test_set_y_orig, classes"
   ]
  },
  {
   "cell_type": "code",
   "execution_count": 4,
   "metadata": {},
   "outputs": [],
   "source": [
    "train_set_x_orig, train_set_y_orig, test_set_x_orig, test_set_y_orig, classes = load_dataset()"
   ]
  },
  {
   "cell_type": "code",
   "execution_count": 5,
   "metadata": {},
   "outputs": [
    {
     "name": "stdout",
     "output_type": "stream",
     "text": [
      "X train Shape - (209, 64, 64, 3)\n",
      "Y train Shape - (1, 209)\n",
      "X test Shape - (50, 64, 64, 3)\n",
      "Y test Shape - (1, 50)\n",
      "Classes - ['non-cat' 'cat']\n"
     ]
    }
   ],
   "source": [
    "print(f'X train Shape - {train_set_x_orig.shape}')\n",
    "print(f'Y train Shape - {train_set_y_orig.shape}')\n",
    "print(f'X test Shape - {test_set_x_orig.shape}')\n",
    "print(f'Y test Shape - {test_set_y_orig.shape}')\n",
    "print(f'Classes - {classes}')"
   ]
  },
  {
   "cell_type": "code",
   "execution_count": 6,
   "metadata": {},
   "outputs": [
    {
     "name": "stdout",
     "output_type": "stream",
     "text": [
      "Y = [1] and it is cat\n"
     ]
    },
    {
     "data": {
      "image/png": "[encoded data removed]",
      "text/plain": [
       "<Figure size 640x480 with 1 Axes>"
      ]
     },
     "metadata": {},
     "output_type": "display_data"
    }
   ],
   "source": [
    "index = 200\n",
    "plt.imshow(train_set_x_orig[index])\n",
    "print(f'Y = {train_set_y_orig[:,index]} and it is {classes[np.squeeze(train_set_y_orig[:,index])]}')"
   ]
  },
  {
   "cell_type": "code",
   "execution_count": 7,
   "metadata": {},
   "outputs": [],
   "source": [
    "#Flatten\n",
    "train_set_x_flatten = train_set_x_orig.reshape(train_set_x_orig.shape[0],-1).T\n",
    "test_set_x_flatten = test_set_x_orig.reshape(test_set_x_orig.shape[0],-1).T"
   ]
  },
  {
   "cell_type": "code",
   "execution_count": 8,
   "metadata": {},
   "outputs": [
    {
     "name": "stdout",
     "output_type": "stream",
     "text": [
      "Flattened shape of X train = (12288, 209)\n",
      "Flattened shape of X test = (12288, 50)\n"
     ]
    }
   ],
   "source": [
    "print(f'Flattened shape of X train = {train_set_x_flatten.shape}')\n",
    "print(f'Flattened shape of X test = {test_set_x_flatten.shape}')"
   ]
  },
  {
   "cell_type": "code",
   "execution_count": 9,
   "metadata": {},
   "outputs": [],
   "source": [
    "#Normalize\n",
    "train_set_x = train_set_x_flatten/255\n",
    "test_set_x = test_set_x_flatten/255"
   ]
  },
  {
   "cell_type": "code",
   "execution_count": 10,
   "metadata": {},
   "outputs": [],
   "source": [
    "#Activation Functions\n",
    "def tanh(x):\n",
    "    return np.tanh(x)\n",
    "\n",
    "def d_tanh(x):\n",
    "    return 1 - np.square(np.tanh(x))\n",
    "\n",
    "def sigmoid(x):\n",
    "    return 1/(1 + np.exp(-x))\n",
    "\n",
    "def d_sigmoid(x):\n",
    "    return sigmoid(x)*(1 - sigmoid(x))\n",
    "\n",
    "def relu(x):\n",
    "    return np.maximum(0,x)\n",
    "\n",
    "def d_relu(x):\n",
    "    return np.where(x > 0, 1, 0)\n",
    "\n",
    "#Loss Functions\n",
    "def logloss(y, a):\n",
    "    return -(y*np.log(a) + (1 - y)*np.log(1 - a))\n",
    "\n",
    "def d_logloss(y, a):\n",
    "    return (a - y)/(a*(1 - a))\n",
    "\n",
    "def compute_cost(AL, Y):\n",
    "    \n",
    "    m = Y.shape[1]\n",
    "    cost = (-1/m) * (np.dot(Y, np.log(AL).T) + np.dot((1-Y), np.log(1-AL).T))\n",
    "    cost = np.squeeze(cost)      \n",
    "\n",
    "    return cost"
   ]
  },
  {
   "cell_type": "code",
   "execution_count": 11,
   "metadata": {},
   "outputs": [
    {
     "name": "stdout",
     "output_type": "stream",
     "text": [
      "[[ 0.00585109 -0.00177   ]\n",
      " [-0.00172445  0.010507  ]\n",
      " [-0.0187232  -0.0091474 ]] (3, 2)\n",
      "(3, 1)\n"
     ]
    }
   ],
   "source": [
    "def initializeWeights(nx,ny):\n",
    "    '''\n",
    "    nx = No of inputs or No of neurons in prev layer\n",
    "    ny = No of neurons in current layer\n",
    "    '''\n",
    "    w = np.random.randn(ny,nx)*0.01\n",
    "    b = np.zeros((ny,1))\n",
    "    \n",
    "    return w,b\n",
    "\n",
    "w,b = initializeWeights(2,3)\n",
    "print(w,w.shape)\n",
    "print(b.shape)"
   ]
  },
  {
   "cell_type": "code",
   "execution_count": 12,
   "metadata": {},
   "outputs": [],
   "source": [
    "#Layer class\n",
    "class Layer:\n",
    "    \n",
    "    activationFunctions = {\n",
    "            'tanh' : (tanh,d_tanh),\n",
    "            'sigmoid' : (sigmoid,d_sigmoid),\n",
    "            'relu' : (relu, d_relu)\n",
    "        }\n",
    "    np.random.seed(3)\n",
    "    \n",
    "    def __init__(self, inputs, neurons, activation, learning_rate=0.002):\n",
    "        '''\n",
    "        inputs = No of inputs to the current layer\n",
    "        neurons = No of neurons in the current layer\n",
    "        activation = Activation function for the currenrt layer\n",
    "        '''\n",
    "        self.W,self.b = initializeWeights(nx=inputs, ny=neurons)\n",
    "        self.act, self.d_act = self.activationFunctions.get(activation)\n",
    "        self.learning_rate = learning_rate\n",
    "    \n",
    "    def forwardProp(self, A_prev):\n",
    "        self.A_prev = A_prev\n",
    "        self.Z = np.dot(self.W, self.A_prev) + self.b\n",
    "        self.A = self.act(self.Z)\n",
    "        return self.A\n",
    "    \n",
    "    def backProp(self, dA):\n",
    "        dZ = np.multiply(self.d_act(self.Z),dA)\n",
    "        dW = 1/dZ.shape[1] * (np.dot(dZ,self.A_prev.T))\n",
    "        db = 1/dZ.shape[1] * np.sum(dZ, axis=1, keepdims=True)\n",
    "        dA_prev = np.dot(self.W.T,dZ)\n",
    "        \n",
    "        self.W = self.W - self.learning_rate * dW\n",
    "        self.b = self.b - self.learning_rate * db\n",
    "        \n",
    "        return dA_prev"
   ]
  },
  {
   "cell_type": "code",
   "execution_count": 13,
   "metadata": {},
   "outputs": [],
   "source": [
    "class NNmodel:\n",
    "    def __init__(self, epochs):\n",
    "        self.epochs = epochs\n",
    "        self.layers = []\n",
    "        self.costs = []\n",
    "\n",
    "    def add(self, layer):\n",
    "        self.layers.append(layer)\n",
    "        \n",
    "    def fit(self, x_train, y_train):\n",
    "        for epoch in range(self.epochs):\n",
    "            A = x_train\n",
    "            for layer in self.layers:\n",
    "                A = layer.forwardProp(A)\n",
    "                \n",
    "            cost = 1/y_train.shape[1] * np.sum(logloss(y=y_train,a=A))\n",
    "            self.costs.append(cost)\n",
    "            dA = d_logloss(y_train, A)\n",
    "    \n",
    "            for layer in reversed(self.layers):\n",
    "                dA = layer.backProp(dA)\n",
    "            if epoch%100==0:\n",
    "                print(f'At epoch - {epoch}, cost - {cost:0.10f}')\n",
    "    \n",
    "    def predict(self, X):\n",
    "        A = X\n",
    "        for layer in self.layers:\n",
    "            A = layer.forwardProp(A)\n",
    "        A = np.where(A<0.5, 0, 1)\n",
    "        return A"
   ]
  },
  {
   "cell_type": "code",
   "execution_count": 14,
   "metadata": {},
   "outputs": [
    {
     "name": "stdout",
     "output_type": "stream",
     "text": [
      "At epoch - 0, cost - 0.6927425808\n",
      "At epoch - 100, cost - 0.6838505108\n",
      "At epoch - 200, cost - 0.6602591287\n",
      "At epoch - 300, cost - 0.6487103964\n",
      "At epoch - 400, cost - 0.6459642569\n",
      "At epoch - 500, cost - 0.6431568509\n",
      "At epoch - 600, cost - 0.6397456414\n",
      "At epoch - 700, cost - 0.6354344505\n",
      "At epoch - 800, cost - 0.6298868557\n",
      "At epoch - 900, cost - 0.6228168558\n",
      "At epoch - 1000, cost - 0.6138416191\n",
      "At epoch - 1100, cost - 0.6036209355\n",
      "At epoch - 1200, cost - 0.5930135232\n",
      "At epoch - 1300, cost - 0.5820045105\n",
      "At epoch - 1400, cost - 0.5710515880\n",
      "At epoch - 1500, cost - 0.5593686249\n",
      "At epoch - 1600, cost - 0.5476848773\n",
      "At epoch - 1700, cost - 0.5358496652\n",
      "At epoch - 1800, cost - 0.5236870722\n",
      "At epoch - 1900, cost - 0.5113420551\n",
      "At epoch - 2000, cost - 0.4991253208\n",
      "At epoch - 2100, cost - 0.4870826212\n",
      "At epoch - 2200, cost - 0.4744764640\n",
      "At epoch - 2300, cost - 0.4608550027\n",
      "At epoch - 2400, cost - 0.4456277861\n",
      "At epoch - 2500, cost - 0.4287041790\n",
      "At epoch - 2600, cost - 0.4119578675\n",
      "At epoch - 2700, cost - 0.3960217882\n",
      "At epoch - 2800, cost - 0.3803252904\n",
      "At epoch - 2900, cost - 0.3653514176\n",
      "At epoch - 3000, cost - 0.3511549577\n",
      "At epoch - 3100, cost - 0.3375398929\n",
      "At epoch - 3200, cost - 0.3246573567\n",
      "At epoch - 3300, cost - 0.3120467588\n",
      "At epoch - 3400, cost - 0.3002232620\n",
      "At epoch - 3500, cost - 0.2882348936\n",
      "At epoch - 3600, cost - 0.2765122584\n",
      "At epoch - 3700, cost - 0.2652988540\n",
      "At epoch - 3800, cost - 0.2546320847\n",
      "At epoch - 3900, cost - 0.2444763840\n",
      "At epoch - 4000, cost - 0.2347591603\n",
      "At epoch - 4100, cost - 0.2255159254\n",
      "At epoch - 4200, cost - 0.2166993770\n",
      "At epoch - 4300, cost - 0.2082813231\n",
      "At epoch - 4400, cost - 0.2004040521\n",
      "At epoch - 4500, cost - 0.1926356477\n",
      "At epoch - 4600, cost - 0.1852712533\n",
      "At epoch - 4700, cost - 0.1780529413\n",
      "At epoch - 4800, cost - 0.1712313885\n",
      "At epoch - 4900, cost - 0.1646319119\n",
      "At epoch - 5000, cost - 0.1581695998\n",
      "At epoch - 5100, cost - 0.1519929977\n",
      "At epoch - 5200, cost - 0.1461368585\n",
      "At epoch - 5300, cost - 0.1403591785\n",
      "At epoch - 5400, cost - 0.1347934830\n",
      "At epoch - 5500, cost - 0.1296984268\n",
      "At epoch - 5600, cost - 0.1248180393\n",
      "At epoch - 5700, cost - 0.1203099086\n",
      "At epoch - 5800, cost - 0.1162030640\n",
      "At epoch - 5900, cost - 0.1119827186\n",
      "At epoch - 6000, cost - 0.1079519435\n",
      "At epoch - 6100, cost - 0.1041132383\n",
      "At epoch - 6200, cost - 0.1004682798\n",
      "At epoch - 6300, cost - 0.0970379066\n",
      "At epoch - 6400, cost - 0.0936766596\n",
      "At epoch - 6500, cost - 0.0906154073\n",
      "At epoch - 6600, cost - 0.0877241417\n",
      "At epoch - 6700, cost - 0.0850519321\n",
      "At epoch - 6800, cost - 0.0826008243\n",
      "At epoch - 6900, cost - 0.0801172583\n",
      "At epoch - 7000, cost - 0.0778296594\n",
      "At epoch - 7100, cost - 0.0756359861\n",
      "At epoch - 7200, cost - 0.0736004610\n",
      "At epoch - 7300, cost - 0.0715387226\n",
      "At epoch - 7400, cost - 0.0696676105\n",
      "At epoch - 7500, cost - 0.0677958958\n",
      "At epoch - 7600, cost - 0.0659904148\n",
      "At epoch - 7700, cost - 0.0643513355\n",
      "At epoch - 7800, cost - 0.0626616543\n",
      "At epoch - 7900, cost - 0.0611044612\n",
      "At epoch - 8000, cost - 0.0595754406\n",
      "At epoch - 8100, cost - 0.0581243370\n",
      "At epoch - 8200, cost - 0.0567639409\n",
      "At epoch - 8300, cost - 0.0553869869\n",
      "At epoch - 8400, cost - 0.0540929818\n",
      "At epoch - 8500, cost - 0.0528530759\n",
      "At epoch - 8600, cost - 0.0516775545\n",
      "At epoch - 8700, cost - 0.0505121463\n",
      "At epoch - 8800, cost - 0.0493798899\n",
      "At epoch - 8900, cost - 0.0483359403\n",
      "At epoch - 9000, cost - 0.0472868694\n",
      "At epoch - 9100, cost - 0.0462900354\n",
      "At epoch - 9200, cost - 0.0453397373\n",
      "At epoch - 9300, cost - 0.0444061408\n",
      "At epoch - 9400, cost - 0.0435767681\n",
      "At epoch - 9500, cost - 0.0428018844\n",
      "At epoch - 9600, cost - 0.0420227708\n",
      "At epoch - 9700, cost - 0.0412998081\n",
      "At epoch - 9800, cost - 0.0405943261\n",
      "At epoch - 9900, cost - 0.0399404644\n",
      "At epoch - 10000, cost - 0.0392853104\n",
      "At epoch - 10100, cost - 0.0386580268\n",
      "At epoch - 10200, cost - 0.0380618365\n",
      "At epoch - 10300, cost - 0.0374960742\n",
      "At epoch - 10400, cost - 0.0369318809\n",
      "At epoch - 10500, cost - 0.0363980858\n",
      "At epoch - 10600, cost - 0.0358764578\n",
      "At epoch - 10700, cost - 0.0353757388\n",
      "At epoch - 10800, cost - 0.0349066088\n",
      "At epoch - 10900, cost - 0.0344275514\n",
      "At epoch - 11000, cost - 0.0339744719\n",
      "At epoch - 11100, cost - 0.0335403966\n",
      "At epoch - 11200, cost - 0.0331221499\n",
      "At epoch - 11300, cost - 0.0327084962\n",
      "At epoch - 11400, cost - 0.0323174753\n",
      "At epoch - 11500, cost - 0.0319257206\n",
      "At epoch - 11600, cost - 0.0315558855\n",
      "At epoch - 11700, cost - 0.0311917487\n",
      "At epoch - 11800, cost - 0.0308430248\n",
      "At epoch - 11900, cost - 0.0304979357\n",
      "At epoch - 12000, cost - 0.0301662798\n",
      "At epoch - 12100, cost - 0.0298467671\n",
      "At epoch - 12200, cost - 0.0295346701\n",
      "At epoch - 12300, cost - 0.0292337194\n",
      "At epoch - 12400, cost - 0.0289367186\n",
      "At epoch - 12500, cost - 0.0286573713\n",
      "At epoch - 12600, cost - 0.0283685131\n",
      "At epoch - 12700, cost - 0.0280985171\n",
      "At epoch - 12800, cost - 0.0278318934\n",
      "At epoch - 12900, cost - 0.0275714236\n",
      "At epoch - 13000, cost - 0.0273242794\n",
      "At epoch - 13100, cost - 0.0270765260\n",
      "At epoch - 13200, cost - 0.0268427202\n",
      "At epoch - 13300, cost - 0.0266015970\n",
      "At epoch - 13400, cost - 0.0263820424\n",
      "At epoch - 13500, cost - 0.0261576696\n",
      "At epoch - 13600, cost - 0.0259369607\n",
      "At epoch - 13700, cost - 0.0257261846\n",
      "At epoch - 13800, cost - 0.0255182097\n",
      "At epoch - 13900, cost - 0.0253161641\n",
      "At epoch - 14000, cost - 0.0251187859\n",
      "At epoch - 14100, cost - 0.0249247733\n",
      "At epoch - 14200, cost - 0.0247368261\n",
      "At epoch - 14300, cost - 0.0245507124\n",
      "At epoch - 14400, cost - 0.0243703670\n",
      "At epoch - 14500, cost - 0.0241985084\n",
      "At epoch - 14600, cost - 0.0240216517\n",
      "At epoch - 14700, cost - 0.0238579997\n",
      "At epoch - 14800, cost - 0.0236854455\n",
      "At epoch - 14900, cost - 0.0235280913\n",
      "At epoch - 15000, cost - 0.0233673049\n"
     ]
    }
   ],
   "source": [
    "epochs = 15001\n",
    "inputs = train_set_x.shape[0]\n",
    "\n",
    "model = NNmodel(epochs=epochs)\n",
    "model.add(Layer(inputs=inputs, neurons=5, activation='relu'))\n",
    "model.add(Layer(inputs=5, neurons=1, activation='sigmoid'))\n",
    "model.fit(x_train=train_set_x, y_train=train_set_y_orig)"
   ]
  },
  {
   "cell_type": "code",
   "execution_count": 15,
   "metadata": {},
   "outputs": [],
   "source": [
    "def getAccuracy(Y,predictions):\n",
    "    return float((np.dot(Y, predictions.T) + np.dot(1 - Y, 1 - predictions.T)) / float(Y.size) * 100)"
   ]
  },
  {
   "cell_type": "code",
   "execution_count": 16,
   "metadata": {},
   "outputs": [
    {
     "name": "stdout",
     "output_type": "stream",
     "text": [
      "Train Accuracy - 100.0\n",
      "Test Accuracy - 70.0\n"
     ]
    }
   ],
   "source": [
    "train_preds = model.predict(train_set_x)\n",
    "test_preds = model.predict(test_set_x)\n",
    "\n",
    "train_acc = getAccuracy(Y=train_set_y_orig, predictions=train_preds)\n",
    "test_acc = getAccuracy(Y=test_set_y_orig, predictions=test_preds)\n",
    "\n",
    "print(f'Train Accuracy - {train_acc}\\nTest Accuracy - {test_acc}')"
   ]
  },
  {
   "cell_type": "code",
   "execution_count": 17,
   "metadata": {},
   "outputs": [
    {
     "data": {
      "text/plain": [
       "[<matplotlib.lines.Line2D at 0x7fc132afb610>]"
      ]
     },
     "execution_count": 17,
     "metadata": {},
     "output_type": "execute_result"
    },
    {
     "data": {
      "image/png": "[encoded data removed]",
      "text/plain": [
       "<Figure size 640x480 with 1 Axes>"
      ]
     },
     "metadata": {},
     "output_type": "display_data"
    }
   ],
   "source": [
    "plt.plot(range(epochs),model.costs)"
   ]
  },
  {
   "cell_type": "code",
   "execution_count": null,
   "metadata": {},
   "outputs": [],
   "source": []
  }
 ],
 "metadata": {
  "kernelspec": {
   "display_name": "Python 3 (ipykernel)",
   "language": "python",
   "name": "python3"
  },
  "language_info": {
   "codemirror_mode": {
    "name": "ipython",
    "version": 3
   },
   "file_extension": ".py",
   "mimetype": "text/x-python",
   "name": "python",
   "nbconvert_exporter": "python",
   "pygments_lexer": "ipython3",
   "version": "3.7.16"
  }
 },
 "nbformat": 4,
 "nbformat_minor": 2
}
